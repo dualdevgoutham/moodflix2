{
 "cells": [
  {
   "cell_type": "code",
   "execution_count": 1,
   "metadata": {},
   "outputs": [
    {
     "name": "stdout",
     "output_type": "stream",
     "text": [
      "happy\n"
     ]
    }
   ],
   "source": [
    "import requests\n",
    "from bs4 import BeautifulSoup\n",
    "\n",
    "# Fetch movie genres corresponding to emotions\n",
    "genre_mapping = {\n",
    "    'Sad': 'Drama',\n",
    "    'Disgust': 'Musical',\n",
    "    'Anger': 'Family',\n",
    "    'Anticipation': 'Thriller',\n",
    "    'Fear': 'happy',\n",
    "    'Joy': 'Thriller',\n",
    "    'Surprise': 'Film-Noir',\n",
    "    'Trust': 'Western'\n",
    "}\n",
    "main=\"Fear\"\n",
    "a=genre_mapping[main]\n",
    "a=a.lower()\n",
    "print(a)\n"
   ]
  },
  {
   "cell_type": "code",
   "execution_count": 2,
   "metadata": {},
   "outputs": [
    {
     "data": {
      "text/plain": [
       "'happy.mp4'"
      ]
     },
     "execution_count": 2,
     "metadata": {},
     "output_type": "execute_result"
    }
   ],
   "source": [
    "filename = a\n",
    "\n",
    "# add the extension \".mp4\" to the string\n",
    "filename = filename + \".mp4\"\n",
    "filename"
   ]
  },
  {
   "cell_type": "code",
   "execution_count": 7,
   "metadata": {},
   "outputs": [
    {
     "name": "stdout",
     "output_type": "stream",
     "text": [
      "<vlc.Instance object at 0x0000028E055E2C08>\n",
      "D:/AVRP/mallareddy/16 Stress Detection in IT Professionals/Code/Emotion Recommendation/happy.mp4\n",
      "<vlc.MediaPlayer object at 0x0000028E0675C308>\n",
      "<vlc.MediaPlayer object at 0x0000028E0675C308>\n",
      "<vlc.MediaPlayer object at 0x0000028E0675C308>\n"
     ]
    }
   ],
   "source": [
    "import vlc\n",
    "import os\n",
    "# create a VLC instance\n",
    "player = vlc.Instance()\n",
    "print(player)\n",
    "# create a media object\n",
    "path='D:/AVRP/mallareddy/16 Stress Detection in IT Professionals/Code/Emotion Recommendation/'\n",
    "# \n",
    "main=os.path.join(path,f\"{filename}\")\n",
    "print(main)\n",
    "media = player.media_new(main)\n",
    "# create a media player object\n",
    "player = player.media_player_new()\n",
    "print(player)\n",
    "# set the media object for the media player\n",
    "player.set_media(media)\n",
    "print(player)\n",
    "\n",
    "# play the mediat\n",
    "# player.play()\n",
    "print(player)"
   ]
  },
  {
   "cell_type": "code",
   "execution_count": 36,
   "metadata": {},
   "outputs": [
    {
     "name": "stdout",
     "output_type": "stream",
     "text": [
      "D:/AVRP/mallareddy/16 Stress Detection in IT Professionals/Code/Emotion Recommendation/happy.mp4\n"
     ]
    }
   ],
   "source": [
    "import vlc\n",
    "import os\n",
    "# create a VLC instance\n",
    "player = vlc.Instance()\n",
    "\n",
    "# create a media object\n",
    "path='D:/AVRP/mallareddy/16 Stress Detection in IT Professionals/Code/Emotion Recommendation/'\n",
    "# \n",
    "main=os.path.join(path,f\"{filename}\")\n",
    "print(main)\n",
    "media = player.media_new(main)\n",
    "# create a media player object\n",
    "player = player.media_player_new()\n",
    "player.stop()"
   ]
  },
  {
   "cell_type": "code",
   "execution_count": 1,
   "metadata": {},
   "outputs": [
    {
     "ename": "NameError",
     "evalue": "name 'player' is not defined",
     "output_type": "error",
     "traceback": [
      "\u001b[1;31m---------------------------------------------------------------------------\u001b[0m",
      "\u001b[1;31mNameError\u001b[0m                                 Traceback (most recent call last)",
      "\u001b[1;32m~\\AppData\\Local\\Temp\\ipykernel_8928\\603687633.py\u001b[0m in \u001b[0;36m<module>\u001b[1;34m\u001b[0m\n\u001b[1;32m----> 1\u001b[1;33m \u001b[0mplayer\u001b[0m\u001b[1;33m.\u001b[0m\u001b[0mstop\u001b[0m\u001b[1;33m(\u001b[0m\u001b[1;33m)\u001b[0m\u001b[1;33m\u001b[0m\u001b[1;33m\u001b[0m\u001b[0m\n\u001b[0m",
      "\u001b[1;31mNameError\u001b[0m: name 'player' is not defined"
     ]
    }
   ],
   "source": [
    "player.stop()"
   ]
  },
  {
   "cell_type": "code",
   "execution_count": 9,
   "metadata": {},
   "outputs": [
    {
     "name": "stdout",
     "output_type": "stream",
     "text": [
      "Quitting...\n",
      "Quitting...\n"
     ]
    },
    {
     "ename": "",
     "evalue": "",
     "output_type": "error",
     "traceback": [
      "\u001b[1;31mThe Kernel crashed while executing code in the the current cell or a previous cell. Please review the code in the cell(s) to identify a possible cause of the failure. Click <a href='https://aka.ms/vscodeJupyterKernelCrash'>here</a> for more info. View Jupyter <a href='command:jupyter.viewOutput'>log</a> for further details."
     ]
    }
   ],
   "source": [
    "while True:\n",
    "    user_input = input(\"Enter a character: \")\n",
    "    if user_input == 'q':\n",
    "        print(\"Quitting...\")\n",
    "        exit()\n",
    "    else:\n",
    "        print(\"Continuing...\")"
   ]
  },
  {
   "cell_type": "code",
   "execution_count": null,
   "metadata": {},
   "outputs": [],
   "source": []
  }
 ],
 "metadata": {
  "kernelspec": {
   "display_name": "Python 3",
   "language": "python",
   "name": "python3"
  },
  "language_info": {
   "codemirror_mode": {
    "name": "ipython",
    "version": 3
   },
   "file_extension": ".py",
   "mimetype": "text/x-python",
   "name": "python",
   "nbconvert_exporter": "python",
   "pygments_lexer": "ipython3",
   "version": "3.7.4"
  }
 },
 "nbformat": 4,
 "nbformat_minor": 2
}
